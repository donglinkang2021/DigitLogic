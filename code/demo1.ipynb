{
 "cells": [
  {
   "attachments": {},
   "cell_type": "markdown",
   "metadata": {},
   "source": [
    "# 深入理解utf-8编码"
   ]
  },
  {
   "cell_type": "code",
   "execution_count": 1,
   "metadata": {},
   "outputs": [
    {
     "data": {
      "text/plain": [
       "'0x7b'"
      ]
     },
     "execution_count": 1,
     "metadata": {},
     "output_type": "execute_result"
    }
   ],
   "source": [
    "hex(123)"
   ]
  },
  {
   "cell_type": "code",
   "execution_count": 2,
   "metadata": {},
   "outputs": [
    {
     "data": {
      "text/plain": [
       "20005"
      ]
     },
     "execution_count": 2,
     "metadata": {},
     "output_type": "execute_result"
    }
   ],
   "source": [
    "0x4e25"
   ]
  },
  {
   "cell_type": "code",
   "execution_count": 57,
   "metadata": {},
   "outputs": [],
   "source": [
    "def hex_to_utf8(hex_str):\n",
    "    \"\"\"\n",
    "    将四位十六进制数转换为 UTF-8 编码字符\n",
    "    Args:\n",
    "        hex_str: str，四位十六进制数\n",
    "    Returns:\n",
    "        utf8_str: str，UTF-8 编码\n",
    "    \"\"\"\n",
    "    binary_str = bin(int(hex_str, 16))[2:]  # 将十六进制数转换为二进制数\n",
    "    binary_str_len = len(binary_str)  # 计算二进制数长度\n",
    "\n",
    "    binary_utf8 = ''  # 用于存储 UTF-8 编码\n",
    "    #      n字节 \n",
    "    # - 第1个字节n个1，1个0，后面字节前两位为10 \n",
    "    # - 1字节：0xxxxxxx\n",
    "    # - 2字节：110xxxxx 10xxxxxx\n",
    "    # - 3字节：1110xxxx 10xxxxxx 10xxxxxx\n",
    "    # - 4字节：11110xxx 10xxxxxx 10xxxxxx 10xxxxxx\n",
    "    # - 代码点位从后往前填入，剩下补0\n",
    "    # - 代码点位数：7, 11, 16, 21\n",
    "\n",
    "    binary_str = binary_str[::-1]  # 将二进制数反转\n",
    "\n",
    "    if binary_str_len <= 7:  # 1 字节\n",
    "        binary_utf8 = '0' + binary_str[::-1]\n",
    "    elif binary_str_len <= 11:  # 2 字节\n",
    "        binary_utf8 = '10' + binary_str[0:6][::-1]\n",
    "        binary_utf8 = '110' + binary_str[6:][::-1].zfill(5) + binary_utf8\n",
    "    elif binary_str_len <= 16:  # 3 字节\n",
    "        binary_utf8 = '10' + binary_str[0:6][::-1]\n",
    "        binary_utf8 = '10' + binary_str[6:12][::-1] + binary_utf8\n",
    "        binary_utf8 = '1110' + binary_str[12:][::-1].zfill(4) + binary_utf8\n",
    "    elif binary_str_len <= 21:  # 4 字节\n",
    "        binary_utf8 = '10' + binary_str[0:6][::-1]\n",
    "        binary_utf8 = '10' + binary_str[6:12][::-1] + binary_utf8\n",
    "        binary_utf8 = '10' + binary_str[12:18][::-1] + binary_utf8\n",
    "        binary_utf8 = '11110' + binary_str[18:][::-1].zfill(3) + binary_utf8\n",
    "    \n",
    "    return binary_utf8\n",
    "\n",
    "\n",
    "def print_utf8(binary_utf8):\n",
    "    \"\"\"\n",
    "    打印 UTF-8 编码\n",
    "    Args:\n",
    "        binary_utf8: str，UTF-8 编码\n",
    "    \"\"\"\n",
    "    # 每 4 位二进制数打印一个下划线\n",
    "    # 每 8 位二进制数打印一个空格\n",
    "    # 每 16 位二进制数打印一个换行符\n",
    "    for i in range(len(binary_utf8)):\n",
    "        if i % 16 == 0 and i != 0:\n",
    "            print()\n",
    "        elif i % 8 == 0 and i != 0:\n",
    "            print(' ', end='')\n",
    "        elif i % 4 == 0 and i != 0:\n",
    "            print('_', end='')\n",
    "        print(binary_utf8[i], end='')\n",
    "    "
   ]
  },
  {
   "cell_type": "code",
   "execution_count": 75,
   "metadata": {},
   "outputs": [
    {
     "name": "stdout",
     "output_type": "stream",
     "text": [
      "0x4e25\n",
      "20005\n",
      "0b100111000100101\n",
      "100111000100101\n"
     ]
    }
   ],
   "source": [
    "hex_str = '0x4e25'\n",
    "print(hex_str)\n",
    "print(int(hex_str, 16))\n",
    "print(bin(int(hex_str, 16)))\n",
    "print(bin(int(hex_str, 16))[2:])"
   ]
  },
  {
   "cell_type": "code",
   "execution_count": 78,
   "metadata": {},
   "outputs": [
    {
     "data": {
      "text/plain": [
       "'111001001011100010100101'"
      ]
     },
     "execution_count": 78,
     "metadata": {},
     "output_type": "execute_result"
    }
   ],
   "source": [
    "hex_to_utf8('0x4e25')"
   ]
  },
  {
   "cell_type": "code",
   "execution_count": 79,
   "metadata": {},
   "outputs": [
    {
     "name": "stdout",
     "output_type": "stream",
     "text": [
      "1110_0100 1011_1000\n",
      "1010_0101"
     ]
    }
   ],
   "source": [
    "print_utf8(hex_to_utf8('0x4e25'))"
   ]
  },
  {
   "cell_type": "code",
   "execution_count": 80,
   "metadata": {},
   "outputs": [
    {
     "data": {
      "text/plain": [
       "'0x4e25'"
      ]
     },
     "execution_count": 80,
     "metadata": {},
     "output_type": "execute_result"
    }
   ],
   "source": [
    "hex(ord('严'))"
   ]
  },
  {
   "cell_type": "code",
   "execution_count": 81,
   "metadata": {},
   "outputs": [
    {
     "data": {
      "text/plain": [
       "'严'"
      ]
     },
     "execution_count": 81,
     "metadata": {},
     "output_type": "execute_result"
    }
   ],
   "source": [
    "chr(ord('严'))"
   ]
  },
  {
   "cell_type": "code",
   "execution_count": 83,
   "metadata": {},
   "outputs": [
    {
     "name": "stdout",
     "output_type": "stream",
     "text": [
      "严\n"
     ]
    }
   ],
   "source": [
    "# 零一编码\n",
    "# zero_one_code = '010101000110100001100101'\n",
    "zero_one_code = hex_to_utf8(hex(ord('严')))\n",
    "\n",
    "# 将零一编码转换为二进制字节串\n",
    "binary_data = bytes.fromhex(hex(int(zero_one_code, 2))[2:])\n",
    "\n",
    "# 将二进制字节串写入文件\n",
    "with open('output.bin', 'wb') as f:\n",
    "    f.write(binary_data)\n",
    "\n",
    "# 从文件中读取二进制字节串并以utf-8格式解码\n",
    "with open('output.bin', 'rb') as f:\n",
    "    utf8_text = f.read().decode('utf-8')\n",
    "\n",
    "print(utf8_text)"
   ]
  }
 ],
 "metadata": {
  "kernelspec": {
   "display_name": "base",
   "language": "python",
   "name": "python3"
  },
  "language_info": {
   "codemirror_mode": {
    "name": "ipython",
    "version": 3
   },
   "file_extension": ".py",
   "mimetype": "text/x-python",
   "name": "python",
   "nbconvert_exporter": "python",
   "pygments_lexer": "ipython3",
   "version": "3.9.7"
  },
  "orig_nbformat": 4
 },
 "nbformat": 4,
 "nbformat_minor": 2
}
